{
 "cells": [
  {
   "cell_type": "code",
   "execution_count": 2,
   "id": "78d29a6d-8993-4286-87b4-c6541931351f",
   "metadata": {},
   "outputs": [],
   "source": [
    "import os\n",
    "import torch\n",
    "import numpy as np\n",
    "import pandas as pd\n",
    "import xarray as xr\n",
    "import matplotlib.pyplot as plt"
   ]
  },
  {
   "cell_type": "code",
   "execution_count": 3,
   "id": "a6178414-fd97-4156-bc8d-8155e1fb2684",
   "metadata": {},
   "outputs": [
    {
     "name": "stdout",
     "output_type": "stream",
     "text": [
      "NVIDIA A100 80GB PCIe\n"
     ]
    }
   ],
   "source": [
    "if torch.cuda.is_available():\n",
    "    print(torch.cuda.get_device_name(0))"
   ]
  },
  {
   "cell_type": "code",
   "execution_count": 70,
   "id": "a796a023",
   "metadata": {},
   "outputs": [],
   "source": [
    "from torch.utils.data import Dataset\n",
    "import torchvision.transforms as T\n",
    "import warnings\n",
    "\n",
    "with warnings.catch_warnings():\n",
    "    warnings.simplefilter(\"ignore\", category=RuntimeWarning)\n",
    "\n",
    "class E33OMA(Dataset):\n",
    "\n",
    "    def __init__(self, period, species, padding, root='/home/serfani/serfani_data0/E33OMA'):\n",
    "        super(E33OMA, self).__init__()\n",
    "        \n",
    "        self.period  = period\n",
    "        self.species = species\n",
    "        self.padding = padding\n",
    "        self.root    = root\n",
    "        \n",
    "        self._get_data_index()\n",
    "    \n",
    "    def _get_data_index(self):\n",
    "        \n",
    "        for root, dirs, files in os.walk(self.root):\n",
    "            \n",
    "            sorted_files = sorted(files)\n",
    "            list1 = [os.path.join(root, file) for file in sorted_files if file.split(\".\")[1] == 'aijlh1E33oma_ai']   # Velocity Fields (time, level, lat, lon)\n",
    "            # list2 = [os.path.join(root, file) for file in sorted_files if file.split(\".\")[1] == 'cijh1E33oma_ai']    # Precipitation (time, lat, lon)\n",
    "            # list3 = [os.path.join(root, file) for file in sorted_files if file.split(\".\")[1] == 'taijh1E33oma_ai']   # Sea Salt Src (time, lat, lon)\n",
    "            # list3 = [os.path.join(root, file) for file in sorted_files if file.split(\".\")[1] == 'tNDaijh1E33oma_ai'] # Clay-BCB Src (time, lat, lon)\n",
    "            # list5 = [os.path.join(root, file) for file in sorted_files if file.split(\".\")[1] == 'taijlh1E33oma_ai']  # Aerosols Mixing Ratio (time, level, lat, lon)\n",
    "\n",
    "        # Convert `cftime.DatetimeNoLeap` to `pandas.to_datetime()`\n",
    "        datetimeindex = xr.open_mfdataset(list1[:365]).indexes['time'].to_datetimeindex()\n",
    "\n",
    "        idx = np.arange(len(datetimeindex))\n",
    "        rng = np.random.default_rng(0)\n",
    "        rng.shuffle(idx)\n",
    "        \n",
    "        if   self.period == 'train':\n",
    "            self.datetimeindex = datetimeindex[idx[:12264]]\n",
    "        \n",
    "        elif self.period == 'val':\n",
    "            self.datetimeindex = datetimeindex[idx[12264:]]\n",
    "\n",
    "    def __getitem__(self, index):\n",
    "        \n",
    "        timestep = self.datetimeindex[index].strftime('%Y%m%d')\n",
    "        \n",
    "        ds1 = xr.open_dataset(os.path.join(self.root, f'{timestep}.aijlh1E33oma_ai.nc'))\n",
    "        ds1['time'] = ds1.indexes['time'].to_datetimeindex()\n",
    "        \n",
    "        ds2 = xr.open_dataset(os.path.join(self.root, f'{timestep}.cijh1E33oma_ai.nc'))\n",
    "        ds2['time'] = ds2.indexes['time'].to_datetimeindex()\n",
    "\n",
    "        X1 = np.expand_dims(ds1['u'].isel(level=0).sel(time=self.datetimeindex[index]), axis=0)\n",
    "        X2 = np.expand_dims(ds1['v'].isel(level=0).sel(time=self.datetimeindex[index]), axis=0)\n",
    "        X3 = np.expand_dims(ds1['omega'].isel(level=0).sel(time=self.datetimeindex[index]), axis=0)\n",
    "\n",
    "        X4 = np.expand_dims(ds2['prec'].sel(time=self.datetimeindex[index]), axis=0)\n",
    "\n",
    "        if self.species == 'seasalt':\n",
    "            # Add positive lag for target variable\n",
    "            ds3 = xr.open_dataset(os.path.join(self.root, f'{timestep}.taijh1E33oma_ai.nc'))\n",
    "            ds3['time'] = ds3.indexes['time'].to_datetimeindex()\n",
    "\n",
    "            ds4 = xr.open_dataset(os.path.join(self.root, f'{timestep}.taijlh1E33oma_ai.nc'))\n",
    "            ds4['time'] = ds4.indexes['time'].to_datetimeindex()\n",
    "\n",
    "            X5 = np.expand_dims(ds3['seasalt1_ocean_src'].sel(time=self.datetimeindex[index]), axis=0)\n",
    "            y  = np.expand_dims(ds4['seasalt1'].isel(level=0).sel(time=self.datetimeindex[index]), axis=0)\n",
    "        \n",
    "        if self.species == 'clay':\n",
    "            # Add positive lag for target variable\n",
    "            ds3 = xr.open_dataset(os.path.join(self.root, f'{timestep}.tNDaijh1E33oma_ai.nc'))\n",
    "            ds3['time'] = ds3.indexes['time'].to_datetimeindex()\n",
    "\n",
    "            ds4 = xr.open_dataset(os.path.join(self.root, f'{timestep}.taijlh1E33oma_ai.nc'))\n",
    "            ds4['time'] = ds4.indexes['time'].to_datetimeindex()\n",
    "\n",
    "            X5 = np.expand_dims(ds3['Clay_emission'].sel(time=self.datetimeindex[index]), axis=0)\n",
    "            y  = np.expand_dims(ds4['Clay'].isel(level=0).sel(time=self.datetimeindex[index]), axis=0)\n",
    "\n",
    "        if self.species == 'bcb':\n",
    "            # Add positive lag for target variable\n",
    "            ds3 = xr.open_dataset(os.path.join(self.root, f'{timestep}.tNDaijh1E33oma_ai.nc'))\n",
    "            ds3['time'] = ds3.indexes['time'].to_datetimeindex()\n",
    "\n",
    "            ds4 = xr.open_dataset(os.path.join(self.root, f'{timestep}.taijlh1E33oma_ai.nc'))\n",
    "            ds4['time'] = ds4.indexes['time'].to_datetimeindex()\n",
    "\n",
    "            X5 = np.expand_dims(ds3['BCB_biomass_src'].sel(time=self.datetimeindex[index]), axis=0)\n",
    "            y  = np.expand_dims(ds4['BCB'].isel(level=0).sel(time=self.datetimeindex[index]), axis=0)\n",
    "\n",
    "\n",
    "        X = np.concatenate((X1, X2, X3, X4, X5), axis=0)  # (5, 90, 144)\n",
    "        \n",
    "        if self.padding:\n",
    "            w = X.shape[2] # width\n",
    "            h = X.shape[1] # height\n",
    "            \n",
    "            top_pad   = self.padding - h\n",
    "            right_pad = self.padding - w\n",
    "            \n",
    "            X = np.lib.pad(X, ((0, 0), (top_pad, 0), (0, right_pad)), mode='constant', constant_values=0)\n",
    "            y = np.lib.pad(y, ((0, 0), (top_pad, 0), (0, right_pad)), mode='constant', constant_values=0)\n",
    "        \n",
    "        X = torch.from_numpy(X) # torch image: C x H x W\n",
    "        y = torch.from_numpy(y) # torch image: C x H x W\n",
    "\n",
    "        return X, y\n",
    "        \n",
    "    def __len__(self):\n",
    "        return len(self.datetimeindex)"
   ]
  },
  {
   "cell_type": "code",
   "execution_count": 75,
   "id": "2bfa4c5d",
   "metadata": {},
   "outputs": [
    {
     "name": "stdout",
     "output_type": "stream",
     "text": [
      "5256\n",
      "torch.Size([5, 256, 256]) torch.Size([1, 256, 256])\n"
     ]
    },
    {
     "name": "stderr",
     "output_type": "stream",
     "text": [
      "/tmp/ipykernel_3160033/3257325580.py:32: RuntimeWarning: Converting a CFTimeIndex with dates from a non-standard calendar, 'noleap', to a pandas.DatetimeIndex, which uses dates from the standard calendar.  This may lead to subtle errors in operations that depend on the length of time between dates.\n",
      "  datetimeindex = xr.open_mfdataset(list1[:365]).indexes['time'].to_datetimeindex()\n",
      "/tmp/ipykernel_3160033/3257325580.py:49: RuntimeWarning: Converting a CFTimeIndex with dates from a non-standard calendar, 'noleap', to a pandas.DatetimeIndex, which uses dates from the standard calendar.  This may lead to subtle errors in operations that depend on the length of time between dates.\n",
      "  ds1['time'] = ds1.indexes['time'].to_datetimeindex()\n",
      "/tmp/ipykernel_3160033/3257325580.py:52: RuntimeWarning: Converting a CFTimeIndex with dates from a non-standard calendar, 'noleap', to a pandas.DatetimeIndex, which uses dates from the standard calendar.  This may lead to subtle errors in operations that depend on the length of time between dates.\n",
      "  ds2['time'] = ds2.indexes['time'].to_datetimeindex()\n",
      "/tmp/ipykernel_3160033/3257325580.py:85: RuntimeWarning: Converting a CFTimeIndex with dates from a non-standard calendar, 'noleap', to a pandas.DatetimeIndex, which uses dates from the standard calendar.  This may lead to subtle errors in operations that depend on the length of time between dates.\n",
      "  ds3['time'] = ds3.indexes['time'].to_datetimeindex()\n",
      "/tmp/ipykernel_3160033/3257325580.py:88: RuntimeWarning: Converting a CFTimeIndex with dates from a non-standard calendar, 'noleap', to a pandas.DatetimeIndex, which uses dates from the standard calendar.  This may lead to subtle errors in operations that depend on the length of time between dates.\n",
      "  ds4['time'] = ds4.indexes['time'].to_datetimeindex()\n"
     ]
    }
   ],
   "source": [
    "dataset = E33OMA(period='val', species='bcb', padding=256)\n",
    "print(len(dataset))\n",
    "dataiter = iter(dataset)\n",
    "X, y = next(dataiter)\n",
    "print(X.shape, y.shape)"
   ]
  }
 ],
 "metadata": {
  "kernelspec": {
   "display_name": ".venv",
   "language": "python",
   "name": "python3"
  },
  "language_info": {
   "codemirror_mode": {
    "name": "ipython",
    "version": 3
   },
   "file_extension": ".py",
   "mimetype": "text/x-python",
   "name": "python",
   "nbconvert_exporter": "python",
   "pygments_lexer": "ipython3",
   "version": "3.10.12"
  }
 },
 "nbformat": 4,
 "nbformat_minor": 5
}
